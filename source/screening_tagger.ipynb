{
 "cells": [
  {
   "cell_type": "code",
   "execution_count": 4,
   "metadata": {},
   "outputs": [],
   "source": [
    "# import keyboard\n",
    "import os"
   ]
  },
  {
   "cell_type": "code",
   "execution_count": 9,
   "metadata": {},
   "outputs": [],
   "source": [
    "def undo(file):\n",
    "    '''A, B, C, --> A, B,'''\n",
    "    # Move the pointer (similar to a cursor in a text editor) to the end of the file\n",
    "    file.seek(0, os.SEEK_END)\n",
    "\n",
    "    # Skip last two characters: ', ' in the file to ensure you delete up until the last comma\n",
    "    pos = file.tell() - 2\n",
    "\n",
    "    # Read each character in the file one at a time from the penultimate\n",
    "    # character going backwards, searching for a newline character\n",
    "    # If we find a new line, exit the search\n",
    "    # Works as: file.read(num of bytes)\n",
    "    while pos > 0 and file.read(1) != ',':  # this is the character it will look for to remove from\n",
    "        pos -= 1\n",
    "        file.seek(pos, os.SEEK_SET)  # move pointer to the new location (one byte back) in file\n",
    "\n",
    "    # So long as we're not at the start of the file, delete all the characters ahead\n",
    "    # of this position\n",
    "    file.seek(pos, os.SEEK_SET)\n",
    "    file.truncate()\n",
    "    if pos > 0:\n",
    "        file.write(', ')\n",
    "    return\n",
    "\n",
    "def write_tags(fname, mode='w+'):\n",
    "    '''Write tags to a text file based on user input'''\n",
    "\n",
    "    # TODO: Have a look at making a dict that contains functions like in thesis\n",
    "    # If you'd want that it would need to be functions for all and have the same argument(s)\n",
    "    tag_map = {1:'C1.1', 2:'C1.2', 3:'C1.3', 4:'C2'}\n",
    "\n",
    "    if os.path.exists(fname):\n",
    "        # count = sum(line.count(\",\") for line in fout)  # TODO: faster count?\n",
    "        count = open(fname, 'r').read().count(\",\")\n",
    "    else:\n",
    "        count = 0\n",
    "    \n",
    "    with open(fname, mode, encoding='utf-8') as fout:\n",
    "        while True:\n",
    "            key = input('''\n",
    "            (1) C1.1\\tOn LFFU\\n\n",
    "            (2) C1.2\\tOn keywords\\n\n",
    "            (3) C1.3\\tOn role\\n \n",
    "            (4) C2\\t Applicable to philanthropy\\n\n",
    "            (u) Undo\\n\n",
    "            (x) Save and exit\n",
    "            ''')\n",
    "            \n",
    "            # If the pressed key is a number and this number is part of the tag_map dictionary\n",
    "            if key.strip().isdigit() and int(key.strip()) in tag_map.keys():\n",
    "                tag = tag_map[int(key.strip())]\n",
    "                fout.write(f'{tag}, ')\n",
    "                count += 1\n",
    "                print(f'writing {tag}, now at {count} entries')\n",
    "            elif key == 'u':\n",
    "                undo(fout)\n",
    "                count -= 1\n",
    "                print(f'removed last entry, now at {count} entries')\n",
    "            elif key == 'x':\n",
    "                print('Exiting')\n",
    "                return\n",
    "            else:\n",
    "                print('Invalid key')\n",
    "                continue\n",
    "\n",
    "def tagger(fname):\n",
    "    # Upon pressing a key corresponding to a tag command, write tag to list of strings\n",
    "    # Prompt for tags with their hotkeys\n",
    "    # Should always be able to save and exit\n",
    "    \n",
    "    if os.path.exists(fname):\n",
    "        action = input('File already exists, continue (t), make new file (n) or exit (x)?')\n",
    "        \n",
    "        if action == 't':\n",
    "            print(f'Continuing with {fname}')\n",
    "            write_tags(fname, 'a+')\n",
    "            return 0\n",
    "\n",
    "        elif action == 'n':\n",
    "            new_fname = input('New file name: ')\n",
    "            if new_fname == fname:\n",
    "                key = input('New filename is same as existing file {fname}, overwrite? (y) / (n)')\n",
    "                if key == 'y':\n",
    "                    write_tags(new_fname)        \n",
    "                elif key == 'n':\n",
    "                    print('Exiting')\n",
    "            else:\n",
    "                write_tags(new_fname)\n",
    "\n",
    "        elif action == 'x':\n",
    "            print('exiting')\n",
    "            return 0\n",
    "        else:\n",
    "            print('Invalid key')\n",
    "    else:\n",
    "        print(f'Creating file {fname}')\n",
    "        return write_tags(fname)"
   ]
  },
  {
   "cell_type": "code",
   "execution_count": 10,
   "metadata": {},
   "outputs": [
    {
     "name": "stdout",
     "output_type": "stream",
     "text": [
      "Continuing with 220526_tags.txt\n",
      "writing C1.1, now at 1 entries\n",
      "writing C1.2, now at 2 entries\n",
      "removed last entry, now at 1 entries\n",
      "removed last entry, now at 0 entries\n",
      "Exiting\n"
     ]
    },
    {
     "data": {
      "text/plain": [
       "0"
      ]
     },
     "execution_count": 10,
     "metadata": {},
     "output_type": "execute_result"
    }
   ],
   "source": [
    "tagger('220526_tags.txt')"
   ]
  },
  {
   "cell_type": "code",
   "execution_count": null,
   "metadata": {},
   "outputs": [],
   "source": []
  }
 ],
 "metadata": {
  "interpreter": {
   "hash": "4a54c03c72d887a707ae90db481535b74e399b746a8faa8d0da44155397c5830"
  },
  "kernelspec": {
   "display_name": "Python 3.9.7 ('cliff')",
   "language": "python",
   "name": "python3"
  },
  "language_info": {
   "codemirror_mode": {
    "name": "ipython",
    "version": 3
   },
   "file_extension": ".py",
   "mimetype": "text/x-python",
   "name": "python",
   "nbconvert_exporter": "python",
   "pygments_lexer": "ipython3",
   "version": "3.9.7"
  },
  "orig_nbformat": 4
 },
 "nbformat": 4,
 "nbformat_minor": 2
}
